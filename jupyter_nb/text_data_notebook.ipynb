{
 "cells": [
  {
   "cell_type": "code",
   "execution_count": 1,
   "metadata": {},
   "outputs": [],
   "source": [
    "from pyspark import SparkConf\n",
    "from pyspark.sql import SparkSession\n",
    "\n",
    "from input_output_manager import IOManager\n",
    "\n",
    "IMAGE_T = 'image'\n",
    "OBJECT_T = 'object'\n",
    "spark = SparkSession.builder.master(\"spark://192.168.1.2:7077\")\\\n",
    "        .config('spark.driver.extraClassPath', 'jdbc_driver/postgresql-42.2.14.jar')\\\n",
    "        .getOrCreate()\n",
    "\n",
    "def transform_text_data_sql(data_type):\n",
    "    path_object = f\"data_sample/{data_type}\"\n",
    "    generated_df = spark.read.json(path_object) # can be path or single file\n",
    "    return generated_df"
   ]
  },
  {
   "cell_type": "code",
   "execution_count": 2,
   "metadata": {},
   "outputs": [
    {
     "name": "stdout",
     "output_type": "stream",
     "text": [
      "root\n",
      " |-- Id: string (nullable = true)\n",
      " |-- Release date: string (nullable = true)\n",
      " |-- Type: string (nullable = true)\n",
      " |-- description: string (nullable = true)\n",
      "\n",
      "+---------+---------------+-----------+--------------------+\n",
      "|       Id|   Release date|       Type|         description|\n",
      "+---------+---------------+-----------+--------------------+\n",
      "|potw1319a|    13 May 2013|Observation|This Hubble image...|\n",
      "| ann1801a|9 February 2018|    Artwork|The CAPjournal is...|\n",
      "+---------+---------------+-----------+--------------------+\n",
      "\n"
     ]
    }
   ],
   "source": [
    "images_df = transform_text_data_sql(IMAGE_T)\n",
    "images_df.printSchema()\n",
    "images_df.show(2)"
   ]
  },
  {
   "cell_type": "code",
   "execution_count": 7,
   "metadata": {},
   "outputs": [
    {
     "name": "stdout",
     "output_type": "stream",
     "text": [
      "root\n",
      " |-- Category: string (nullable = true)\n",
      " |-- Constellation: string (nullable = true)\n",
      " |-- Distance: string (nullable = true)\n",
      " |-- Name: string (nullable = true)\n",
      " |-- Type: string (nullable = true)\n",
      "\n",
      "+-------------+----------------+------------------+-----------+--------------------+\n",
      "|     Category|   Constellation|          Distance|       Name|                Type|\n",
      "+-------------+----------------+------------------+-----------+--------------------+\n",
      "|    Cosmology|Piscis Austrinus|z=0.312 (redshift)|Abell S1077|Early Universe : ...|\n",
      "|Illustrations|            null|              null| CAPjournal|         Unspecified|\n",
      "+-------------+----------------+------------------+-----------+--------------------+\n",
      "\n"
     ]
    }
   ],
   "source": [
    "obj_df = transform_text_data_sql(OBJECT_T)\n",
    "obj_df.printSchema()\n",
    "obj_df.show(2)"
   ]
  },
  {
   "cell_type": "code",
   "execution_count": 4,
   "metadata": {},
   "outputs": [
    {
     "name": "stdout",
     "output_type": "stream",
     "text": [
      "+---------+-----------------+------------+--------------------+\n",
      "|       Id|     Release date|        Type|         description|\n",
      "+---------+-----------------+------------+--------------------+\n",
      "|potw1110a|     7 March 2011| Observation|The strange and i...|\n",
      "|heic0207h|      5 June 2002| Observation|Two powerful came...|\n",
      "| opo0647a|28 September 2006|     Collage|Just as we near t...|\n",
      "|  ann0819|  24 October 2008|Photographic|Following a week ...|\n",
      "|  ann0814|  15 October 2008|Photographic|At a teleconferen...|\n",
      "| opo0928h| 10 November 2009|     Collage|In celebration of...|\n",
      "|heic0506a|    25 April 2005| Observation|The graceful, win...|\n",
      "|heic0206c|    30 April 2002| Observation|Resembling a nigh...|\n",
      "|heic1206b|    17 April 2012|     Collage|From massive star...|\n",
      "| opo1733b|  6 November 2017| Observation|As if this Hubble...|\n",
      "|potw1237a|10 September 2012| Observation|This image portra...|\n",
      "|potw1418a|       5 May 2014| Observation|This bundle of br...|\n",
      "|heic0516a| 13 December 2005| Observation|This Hubble Space...|\n",
      "|heic0716b|  16 October 2007|     Collage|The NASA/ESA Hubb...|\n",
      "| opo0635a|     31 July 2006| Observation|In the wake of In...|\n",
      "|heic1206c|    17 April 2012|     Collage|This annotated ma...|\n",
      "| opo1602a|   8 January 2016| Observation|Astronomers have ...|\n",
      "|heic0910k| 9 September 2009|     Collage|The wispy, glowin...|\n",
      "| opo1733a|     21 June 2019| Observation|Some asteroids fr...|\n",
      "|sci17003a|      18 May 2017|     Artwork|This beautiful ar...|\n",
      "+---------+-----------------+------------+--------------------+\n",
      "only showing top 20 rows\n",
      "\n"
     ]
    }
   ],
   "source": [
    "images_df_sql = spark.read \\\n",
    "  .format(\"jdbc\") \\\n",
    "  .option(\"url\", \"jdbc:postgresql://192.168.1.7:5432/spark-rw\") \\\n",
    "  .option(\"dbtable\", \"images\") \\\n",
    "  .option(\"user\", \"spark-rw\") \\\n",
    "  .load()\n",
    "    \n",
    "images_df_sql.show()\n"
   ]
  },
  {
   "cell_type": "code",
   "execution_count": 10,
   "metadata": {},
   "outputs": [
    {
     "name": "stdout",
     "output_type": "stream",
     "text": [
      "+---------+-----------------+-----------+--------------------+\n",
      "|       Id|     Release date|       Type|         description|\n",
      "+---------+-----------------+-----------+--------------------+\n",
      "|potw1110a|     7 March 2011|Observation|The strange and i...|\n",
      "|heic0207h|      5 June 2002|Observation|Two powerful came...|\n",
      "|heic0506a|    25 April 2005|Observation|The graceful, win...|\n",
      "|heic0206c|    30 April 2002|Observation|Resembling a nigh...|\n",
      "| opo1733b|  6 November 2017|Observation|As if this Hubble...|\n",
      "|potw1237a|10 September 2012|Observation|This image portra...|\n",
      "|potw1418a|       5 May 2014|Observation|This bundle of br...|\n",
      "|heic0516a| 13 December 2005|Observation|This Hubble Space...|\n",
      "| opo0635a|     31 July 2006|Observation|In the wake of In...|\n",
      "| opo1602a|   8 January 2016|Observation|Astronomers have ...|\n",
      "| opo1733a|     21 June 2019|Observation|Some asteroids fr...|\n",
      "|potw1241a|   8 October 2012|Observation|The  Universe is ...|\n",
      "|heic0301a| 20 February 2003|Observation|The Boomerang Neb...|\n",
      "|heic0206d|    30 April 2002|Observation|A watercolour fan...|\n",
      "|heic1106d|    12 April 2011|Observation|This ground-based...|\n",
      "| opo0929b|  5 November 2009|Observation|The spectacular n...|\n",
      "|heic0716a|  16 October 2007|Observation|The NASA/ESA Hubb...|\n",
      "|potw1233a|   13 August 2012|Observation|In  terms of inte...|\n",
      "|heic0910h| 9 September 2009|Observation|This celestial ob...|\n",
      "|potw1114a|     1 April 2011|Observation|The NASA/ESA Hubb...|\n",
      "+---------+-----------------+-----------+--------------------+\n",
      "only showing top 20 rows\n",
      "\n"
     ]
    }
   ],
   "source": [
    "images_df_sql.filter(images_df_sql.Type == 'Observation').show()"
   ]
  },
  {
   "cell_type": "code",
   "execution_count": null,
   "metadata": {},
   "outputs": [],
   "source": []
  }
 ],
 "metadata": {
  "kernelspec": {
   "display_name": "Python 3",
   "language": "python",
   "name": "python3"
  },
  "language_info": {
   "codemirror_mode": {
    "name": "ipython",
    "version": 3
   },
   "file_extension": ".py",
   "mimetype": "text/x-python",
   "name": "python",
   "nbconvert_exporter": "python",
   "pygments_lexer": "ipython3",
   "version": "3.7.7"
  }
 },
 "nbformat": 4,
 "nbformat_minor": 4
}
