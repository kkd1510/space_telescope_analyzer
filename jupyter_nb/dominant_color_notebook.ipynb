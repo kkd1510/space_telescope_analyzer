{
 "cells": [
  {
   "cell_type": "code",
   "execution_count": 1,
   "metadata": {},
   "outputs": [],
   "source": [
    "import cv2\n",
    "import glob\n",
    "import os\n",
    "\n",
    "from pyspark import SparkConf\n",
    "from pyspark.sql import SparkSession\n",
    "from pyspark.sql.types import FloatType\n",
    "from pyspark.sql.functions import udf\n",
    "\n",
    "from sklearn.cluster import KMeans\n",
    "from colormath.color_objects import LabColor\n",
    "from colormath.color_diff import delta_e_cie2000\n",
    "from colormath.color_objects import XYZColor, sRGBColor\n",
    "from colormath.color_conversions import convert_color\n",
    "\n",
    "from input_output_manager import IOManager\n",
    "\n",
    "DATAFRAME_SCHEMA = ['image',\n",
    "                    'color_1_r', 'color_1_g', 'color_1_b',\n",
    "                    'color_2_r', 'color_2_g', 'color_2_b',\n",
    "                    'color_3_r', 'color_3_g', 'color_3_b']\n",
    "\n",
    "PARQUET_FILE_NAME = 'images_df_sample'\n",
    "\n",
    "REMOTE = True\n",
    "spark = SparkSession.builder.master(\"spark://192.168.1.2:7077\").config(conf=SparkConf()).getOrCreate()\n",
    "\n",
    "def image_id(image_path):\n",
    "    return os.path.basename(image_path).replace('_r.jpg', '').strip()\n",
    "\n",
    "\n",
    "def find_dominant_colors(image_path, kmeans_clusters=3):\n",
    "    img = cv2.imread(image_path)\n",
    "    img = cv2.cvtColor(img, cv2.COLOR_BGR2RGB)\n",
    "    img = img.reshape((img.shape[0] * img.shape[1], 3))\n",
    "    kmeans = KMeans(n_clusters=kmeans_clusters, random_state=1)\n",
    "    kmeans.fit(img)\n",
    "\n",
    "    attributes = [image_id(image_path)]\n",
    "    for d_color in kmeans.cluster_centers_.astype(int):\n",
    "        for rgb in d_color:\n",
    "            attributes.append(rgb.item())\n",
    "    return attributes\n",
    "\n",
    "\n",
    "def assign_dominant_colors():\n",
    "    images = glob.glob(\"/home/esteban/spark_test/test/images_r_sample/*.jpg\")\n",
    "\n",
    "    images_dominant_color_rdd = spark.sparkContext.parallelize(images).map(find_dominant_colors)\n",
    "    images_dataframe = images_dominant_color_rdd.toDF(DATAFRAME_SCHEMA)\n",
    "    images_dataframe.show()\n",
    "    #io_manager = IOManager(spark)\n",
    "    #io_manager.hdfs_save_dataframe_parquet(images_dataframe, PARQUET_FILE_NAME)\n",
    "\n",
    "\n",
    "def get_delta_e(r_1, g_1, b_1, r_2, g_2, b_2):\n",
    "    rgb_param = sRGBColor(r_1, g_1, b_1)\n",
    "    image_dominant_color = sRGBColor(r_2, g_2, b_2)\n",
    "\n",
    "    color_param_xyz = convert_color(rgb_param, XYZColor)\n",
    "    color_image_xyz = convert_color(image_dominant_color, XYZColor)\n",
    "\n",
    "    color_param_lab = convert_color(color_param_xyz, LabColor)\n",
    "    color_image_lab = convert_color(color_image_xyz, LabColor)\n",
    "\n",
    "    return delta_e_cie2000(color_param_lab, color_image_lab)\n",
    "\n",
    "\n",
    "def get_matching_images(desired_color):\n",
    "    delta_e_udf = udf(lambda r, g, b: get_delta_e(r, g, b, *desired_color), FloatType())\n",
    "    io_manager = IOManager(spark)\n",
    "\n",
    "    images_df_parquet = io_manager.hdfs_load_dataframe_parquet(PARQUET_FILE_NAME)\n",
    "    images_df_parquet.createOrReplaceTempView(\"images_df_parquet\")\n",
    "    full_images_df = spark.sql('select * from images_df_parquet')\n",
    "    delta_e_assigned_df = full_images_df.select('image',\n",
    "                                                delta_e_udf('color_1_r', 'color_1_g', 'color_1_b').alias(\n",
    "                                                    'color_1_delta_e'),\n",
    "                                                delta_e_udf('color_2_r', 'color_2_g', 'color_2_b').alias(\n",
    "                                                    'color_2_delta_e'),\n",
    "                                                delta_e_udf('color_3_r', 'color_3_g', 'color_3_b').alias(\n",
    "                                                    'color_3_delta_e'))\n",
    "    return delta_e_assigned_df"
   ]
  },
  {
   "cell_type": "code",
   "execution_count": 8,
   "metadata": {
    "scrolled": true
   },
   "outputs": [
    {
     "name": "stdout",
     "output_type": "stream",
     "text": [
      "+---------+---------+---------+---------+---------+---------+---------+---------+---------+---------+\n",
      "|    image|color_1_r|color_1_g|color_1_b|color_2_r|color_2_g|color_2_b|color_3_r|color_3_g|color_3_b|\n",
      "+---------+---------+---------+---------+---------+---------+---------+---------+---------+---------+\n",
      "| ann1217a|       96|       89|       98|      168|      148|      162|       41|       39|       36|\n",
      "| opo9927d|        0|        0|        0|      208|      126|       94|      135|       97|       89|\n",
      "| opo9932c|       13|       13|        1|      253|      240|      216|      187|       78|        5|\n",
      "| ann1208a|      244|      153|       19|      176|       80|        9|       78|       40|       19|\n",
      "| opo9929b|      209|      191|      172|       10|        8|        2|      141|      118|       78|\n",
      "| ann1406a|       56|       43|       34|       93|      101|      105|      150|      170|      181|\n",
      "|heic0206c|      132|       45|       47|      216|      140|      124|       63|       21|       33|\n",
      "|potw1422a|      165|      141|      135|       33|       35|       40|       85|       81|       87|\n",
      "|potw1444a|       38|      119|      136|       17|       10|        9|       98|      175|      187|\n",
      "+---------+---------+---------+---------+---------+---------+---------+---------+---------+---------+\n",
      "\n"
     ]
    }
   ],
   "source": [
    "assign_dominant_colors()"
   ]
  },
  {
   "cell_type": "code",
   "execution_count": 2,
   "metadata": {
    "scrolled": true
   },
   "outputs": [
    {
     "data": {
      "application/vnd.jupyter.widget-view+json": {
       "model_id": "fd8db01bdbdd4efcab4443a948547f60",
       "version_major": 2,
       "version_minor": 0
      },
      "text/plain": [
       "ColorPicker(value='blue', description='Pick a color')"
      ]
     },
     "metadata": {},
     "output_type": "display_data"
    }
   ],
   "source": [
    "import ipywidgets as widgets\n",
    "\n",
    "widgets.ColorPicker(\n",
    "    concise=False,\n",
    "    description='Pick a color',\n",
    "    value='blue',\n",
    "    disabled=False\n",
    ")\n"
   ]
  },
  {
   "cell_type": "code",
   "execution_count": 8,
   "metadata": {},
   "outputs": [
    {
     "name": "stdout",
     "output_type": "stream",
     "text": [
      "+---------+---------------+---------------+---------------+\n",
      "|    image|color_1_delta_e|color_2_delta_e|color_3_delta_e|\n",
      "+---------+---------------+---------------+---------------+\n",
      "| opo9929b|       91.10425|      137.31532|      109.99007|\n",
      "| ann1406a|     102.747696|      47.268314|      28.239372|\n",
      "|heic0206c|      131.25316|       112.5184|      171.51913|\n",
      "|potw1422a|       91.89381|       92.22175|       127.3342|\n",
      "|potw1444a|       33.77612|       132.7916|      28.154665|\n",
      "| ann1217a|      148.30452|      197.95705|       96.06793|\n",
      "| opo9927d|      139.78716|      104.39176|     108.259514|\n",
      "| opo9932c|      141.24297|      100.33872|      102.27639|\n",
      "| ann1208a|       90.66206|       101.6956|     115.569534|\n",
      "+---------+---------------+---------------+---------------+\n",
      "\n"
     ]
    }
   ],
   "source": [
    "get_matching_images((0,191,255)).show()"
   ]
  },
  {
   "cell_type": "code",
   "execution_count": 9,
   "metadata": {},
   "outputs": [
    {
     "name": "stdout",
     "output_type": "stream",
     "text": [
      "+---------+---------------+---------------+---------------+\n",
      "|    image|color_1_delta_e|color_2_delta_e|color_3_delta_e|\n",
      "+---------+---------------+---------------+---------------+\n",
      "|potw1444a|       33.77612|       132.7916|      28.154665|\n",
      "+---------+---------------+---------------+---------------+\n",
      "\n"
     ]
    }
   ],
   "source": [
    "delta_e_assigned = get_matching_images((0,191,255))\n",
    "delta_e_assigned.filter(delta_e_assigned.color_1_delta_e < 50).show()\n"
   ]
  },
  {
   "cell_type": "code",
   "execution_count": 33,
   "metadata": {},
   "outputs": [
    {
     "name": "stdout",
     "output_type": "stream",
     "text": [
      "+---------+---------------+---------------+---------------+\n",
      "|    image|color_1_delta_e|color_2_delta_e|color_3_delta_e|\n",
      "+---------+---------------+---------------+---------------+\n",
      "| ann1406a|       95.06792|      42.996983|      27.130707|\n",
      "|potw1444a|      37.052086|       122.3911|      36.429565|\n",
      "+---------+---------------+---------------+---------------+\n",
      "\n"
     ]
    }
   ],
   "source": [
    "delta_e_assigned.filter('color_1_delta_e < 50 or color_2_delta_e < 50 or color_3_delta_e < 50').show()"
   ]
  },
  {
   "cell_type": "code",
   "execution_count": 7,
   "metadata": {},
   "outputs": [
    {
     "name": "stdout",
     "output_type": "stream",
     "text": [
      "+---------+---------------+---------------+---------------+\n",
      "|    image|color_1_delta_e|color_2_delta_e|color_3_delta_e|\n",
      "+---------+---------------+---------------+---------------+\n",
      "|potw1444a|      37.052086|       122.3911|      36.429565|\n",
      "|potw1422a|        74.3123|      86.438385|     108.851074|\n",
      "| opo9929b|       77.51546|      129.31705|       91.21968|\n",
      "| ann1208a|       89.45832|       91.29653|      103.51094|\n",
      "| ann1406a|       95.06792|      42.996983|      27.130707|\n",
      "|heic0206c|     102.665016|       90.37304|      124.97095|\n",
      "| ann1217a|      121.25168|      130.32187|       88.58818|\n",
      "| opo9927d|      139.76248|      89.412224|       86.33246|\n",
      "| opo9932c|      143.11295|      109.03904|       90.78594|\n",
      "+---------+---------------+---------------+---------------+\n",
      "\n"
     ]
    }
   ],
   "source": [
    "delta_e_assigned.orderBy('color_1_delta_e', ascending=1).show()"
   ]
  },
  {
   "cell_type": "code",
   "execution_count": 14,
   "metadata": {},
   "outputs": [
    {
     "name": "stdout",
     "output_type": "stream",
     "text": [
      "+---------+---------------+---------------+---------------+\n",
      "|    image|color_1_delta_e|color_2_delta_e|color_3_delta_e|\n",
      "+---------+---------------+---------------+---------------+\n",
      "| ann1406a|       95.06792|      42.996983|      27.130707|\n",
      "|potw1422a|        74.3123|      86.438385|     108.851074|\n",
      "| opo9927d|      139.76248|      89.412224|       86.33246|\n",
      "|heic0206c|     102.665016|       90.37304|      124.97095|\n",
      "| ann1208a|       89.45832|       91.29653|      103.51094|\n",
      "| opo9932c|      143.11295|      109.03904|       90.78594|\n",
      "|potw1444a|      37.052086|       122.3911|      36.429565|\n",
      "| opo9929b|       77.51546|      129.31705|       91.21968|\n",
      "| ann1217a|      121.25168|      130.32187|       88.58818|\n",
      "+---------+---------------+---------------+---------------+\n",
      "\n"
     ]
    }
   ],
   "source": [
    "delta_e_assigned.orderBy('color_2_delta_e', ascending=1).show()"
   ]
  },
  {
   "cell_type": "code",
   "execution_count": null,
   "metadata": {},
   "outputs": [],
   "source": []
  }
 ],
 "metadata": {
  "kernelspec": {
   "display_name": "Python 3",
   "language": "python",
   "name": "python3"
  },
  "language_info": {
   "codemirror_mode": {
    "name": "ipython",
    "version": 3
   },
   "file_extension": ".py",
   "mimetype": "text/x-python",
   "name": "python",
   "nbconvert_exporter": "python",
   "pygments_lexer": "ipython3",
   "version": "3.7.7"
  }
 },
 "nbformat": 4,
 "nbformat_minor": 4
}
